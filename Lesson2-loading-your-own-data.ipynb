{
 "cells": [
  {
   "cell_type": "markdown",
   "metadata": {},
   "source": [
    "# Training Model with Your own Data\n",
    "\n",
    "**This lesson is adapted from [sentdex](https://www.youtube.com/watch?v=j-3vuBynnOE) on YouTube. I have collated this for my own learning experience, as well as for the benefit of others who would like to learn as well. :)**"
   ]
  },
  {
   "cell_type": "markdown",
   "metadata": {},
   "source": [
    "First, you will have to find your own dataset to work with. There are many public datasets out there for you to choose from. \n",
    "\n",
    "For this notebook, we will be using photos of cats and dogs from [kaggle](https://www.microsoft.com/en-us/download/confirmation.aspx?id=54765)"
   ]
  },
  {
   "cell_type": "markdown",
   "metadata": {},
   "source": [
    "You might see a few new modules to import below, namely os and cv2\n",
    "\n",
    "The module os allows us to operate on underlying Operating System tasks, and the module cv2 is mainly to augment data.\n",
    "\n",
    "To download cv2, try\n",
    "\n",
    "*pip install opencv-python*"
   ]
  },
  {
   "cell_type": "code",
   "execution_count": 1,
   "metadata": {},
   "outputs": [],
   "source": [
    "import numpy as np\n",
    "import matplotlib.pyplot as plt\n",
    "import os\n",
    "import cv2"
   ]
  },
  {
   "cell_type": "markdown",
   "metadata": {},
   "source": [
    "Firstly, we will initialise the directory of the data, as well as the categories they are in.\n",
    "*Note that this ill depend on how your directory of your pet_images look like, but if you did not do any modifictions to your downloaded file, it should be okay*\n",
    "\n",
    "Then, we will be using cv2 to convert your images to grayscale images. This is because it will make it easier for the model to train. Moreover for this case, colour is not essential for the model to be trained. However, do not that other comparisons might need colour as a feature for training."
   ]
  },
  {
   "cell_type": "code",
   "execution_count": null,
   "metadata": {},
   "outputs": [],
   "source": [
    "DATADIR = \"Cat_Dog_data\"\n",
    "CATEGORIES = [\"Dog\", \"Cat\"]\n",
    "\n",
    "for category in CATEGORIES:\n",
    "    path = os.path.join(DATADIR, category)\n",
    "    for img in os.listdir(path):\n",
    "        #input images into an array and convert images to gray-scale\n",
    "        img_array = cv2.imread(os.path.join(path, img), cv2.IIMREAD_GRAYSCALE)\n",
    "        plt.imshow(img_array, cmap = \"gray\")\n",
    "        break\n",
    "    break"
   ]
  },
  {
   "cell_type": "code",
   "execution_count": null,
   "metadata": {},
   "outputs": [],
   "source": [
    "#take note of how the array changes with/without the grayscale\n",
    "print(img_array)\n",
    "\n",
    "print(img_array.shape)"
   ]
  },
  {
   "cell_type": "markdown",
   "metadata": {},
   "source": [
    "If you look at the images in your pet_images folder, you would realise that the dimensions of the photos are all different. This will make it extremely difficult for your model to be trained, hence we will decide on an image size for all your photos, and resize them to it."
   ]
  },
  {
   "cell_type": "code",
   "execution_count": null,
   "metadata": {},
   "outputs": [],
   "source": [
    "IMG_SIZE = 50\n",
    "\n",
    "new_array = cv2.resize(img_array, (IMG_SIZE, IMG_SIZE))\n",
    "plt.imshow(new_array, cmap = 'gray')\n",
    "plt.show()"
   ]
  }
 ],
 "metadata": {
  "kernelspec": {
   "display_name": "Python 3",
   "language": "python",
   "name": "python3"
  },
  "language_info": {
   "codemirror_mode": {
    "name": "ipython",
    "version": 3
   },
   "file_extension": ".py",
   "mimetype": "text/x-python",
   "name": "python",
   "nbconvert_exporter": "python",
   "pygments_lexer": "ipython3",
   "version": "3.6.8"
  }
 },
 "nbformat": 4,
 "nbformat_minor": 4
}
